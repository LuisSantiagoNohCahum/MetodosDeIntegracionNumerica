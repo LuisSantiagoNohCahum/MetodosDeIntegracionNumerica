{
 "cells": [
  {
   "cell_type": "markdown",
   "metadata": {},
   "source": [
    "# METODOS NUMERICOS"
   ]
  },
  {
   "cell_type": "markdown",
   "metadata": {},
   "source": [
    "#### Maestro : Jorge Manuel Pool Cen"
   ]
  },
  {
   "cell_type": "markdown",
   "metadata": {},
   "source": [
    "## UNIDAD 4 - DIFERENCIACION E INTEGRACION NUMERICA"
   ]
  },
  {
   "cell_type": "markdown",
   "metadata": {},
   "source": [
    "### INTEGRANTES\n",
    "* #### LUIS SANTIAGO NOH CAHUM - 19070049\n",
    "* #### MARICELA DEL ROSARIO PUC OY - 19070051\n",
    "* #### JESUS ISRAEL GAMBOA AKE - 19070041"
   ]
  },
  {
   "cell_type": "markdown",
   "metadata": {},
   "source": [
    "#### FECHA DE ENTREGA: 02 DE JUNIO DEL 2021"
   ]
  },
  {
   "cell_type": "markdown",
   "metadata": {},
   "source": [
    " "
   ]
  },
  {
   "cell_type": "markdown",
   "metadata": {},
   "source": [
    "## Regla de simpson"
   ]
  },
  {
   "cell_type": "markdown",
   "metadata": {},
   "source": [
    "### Método Simpsón - caso base\n",
    "  * Caso base $\\int_{a}^{b} f(x) dx= \\frac{h}{3}[f(x_0) + 4f(x_1)+ f(x_2)]-error $"
   ]
  },
  {
   "cell_type": "code",
   "execution_count": 66,
   "metadata": {},
   "outputs": [],
   "source": [
    "from math import *\n",
    " \n",
    "def funcion (x) :\n",
    "    return (x**3)*(e**x)"
   ]
  },
  {
   "cell_type": "code",
   "execution_count": 73,
   "metadata": {},
   "outputs": [],
   "source": [
    "def simpsonbase(a, b) :\n",
    "    h=(b-a)/2\n",
    "    resul=(h/3)*(funcion(a)+(4*funcion(a+h))+funcion(b)) \n",
    "    \n",
    "    print(\"\\nEvaluacion de la funcion: \")\n",
    "    print('{:^10}{:^10}'.format('i','fxi'))\n",
    "    print('{:^10}{:^10.4f}'.format(0, funcion(a)))\n",
    "    print('{:^10}{:^10.4f}'.format(1, funcion(a+h)))\n",
    "    print('{:^10}{:^10.4f}'.format(2, funcion(b)))\n",
    "    return \"\\nResultado obtenido con el metodo de simpson:\\t\"+ str(resul)"
   ]
  },
  {
   "cell_type": "code",
   "execution_count": 75,
   "metadata": {},
   "outputs": [
    {
     "name": "stdout",
     "output_type": "stream",
     "text": [
      "ingrese valor de a:-2\n",
      "ingrese valor de b:2\n",
      "\n",
      "Evaluacion de la funcion: \n",
      "    i        fxi    \n",
      "    0      -1.0827  \n",
      "    1       0.0000  \n",
      "    2      59.1124  \n",
      "\n",
      "Resultado obtenido con el metodo de simpson:\t38.68651101703486\n"
     ]
    }
   ],
   "source": [
    "a= float(input(\"ingrese valor de a:\" )) \n",
    "b= float(input(\"ingrese valor de b:\" )) \n",
    "\n",
    "\n",
    "print (simpsonbase(a, b))"
   ]
  },
  {
   "cell_type": "markdown",
   "metadata": {},
   "source": [
    "### Método Simpsón caso general o compuesto\n",
    "* Caso general o compuesta, $h=(b-a)/n$, n par.  $\\int_{a}^{b} f(x) dx = \\frac{h}{3} [f(a)+ 2 \\sum_{j=1}^{(n/2)-1} f(x_{2j}) + 4 \\sum_{j=1}^{(n/2)} f(x_{2j-1}) + f(b)]$"
   ]
  },
  {
   "cell_type": "code",
   "execution_count": 41,
   "metadata": {},
   "outputs": [],
   "source": [
    "import math\n",
    "\n",
    "## definir una función que realice las evaluaciones\n",
    "def fxi(x):\n",
    "    return x*math.log(x)\n"
   ]
  },
  {
   "cell_type": "code",
   "execution_count": 42,
   "metadata": {},
   "outputs": [],
   "source": [
    "def Simpson(afxi,h):\n",
    "    #[operaciones for  if condicion]\n",
    "    #sum([])=>suma o un solo valor, escalar, \n",
    "    s = len(afxi)\n",
    "    \n",
    "    sumapar= sum([afxi[i] for i in  range(2,s-1) if i%2==0])\n",
    "    print(\"De i=1 hasta i=\",s-2, \"sumar valor de indices pares\\n\", \"\\tSuma total (pares) = \", sumapar,)\n",
    "    print(\"Suma que se multiplica x2\\n\", \"\\tResultado\",sumapar*2,\"\\n\")\n",
    "    \n",
    "    sumaimpar = sum([afxi[i] for i in  range(1,s-1) if i%2!=0])\n",
    "    print(\"De i=1 hasta i=\",s-2, \"sumar valor de indices impares\\n\", \"\\tSuma total (impares)= \", sumaimpar)\n",
    "    print(\"Suma que se multiplica x4\\n\", \"\\tResultado\", sumaimpar*4,\"\\n\" )\n",
    "    sumatotal=(afxi[0]+afxi[s-1] + 2 * sumapar + 4* sumaimpar)\n",
    "    print(\"Suma total de f(a), f(b) y las multiplicaciones anteriores: \\n\" , \"\\tSuma total:\",sumatotal )\n",
    "    resultado = (h/3) * (sumatotal)\n",
    "    return resultado\n"
   ]
  },
  {
   "cell_type": "code",
   "execution_count": 43,
   "metadata": {},
   "outputs": [],
   "source": [
    "def principal():\n",
    "    n = int(input(\"Cantidad de intervalos: \"))\n",
    "    a = float(input(\"Limite a: \"))\n",
    "    b = float(input(\"Limite b: \"))\n",
    "    h = (b-a)/n\n",
    "    ## Comprension and generator\n",
    "    afxi = [fxi(a+i*h) for i in range(n+1)] #comprenssion\n",
    "    \n",
    "    print('{:^10}{:^10}{:^10}'.format('i','xi','fxi'))\n",
    "    for i in range (n+1):\n",
    "        print('{:^10}{:^10.4f}{:^10.4f}'.format(i,(a+(i*h)),afxi[i]))  \n",
    "    print(\"\\n\")    \n",
    "    resultadosimpson = Simpson(afxi,h)\n",
    "    print(\"\\n\\tSolucion = \",resultadosimpson,sep=\" \")"
   ]
  },
  {
   "cell_type": "code",
   "execution_count": 44,
   "metadata": {},
   "outputs": [
    {
     "name": "stdout",
     "output_type": "stream",
     "text": [
      "Cantidad de intervalos: 4\n",
      "Limite a: 1\n",
      "Limite b: 2\n",
      "    i         xi       fxi    \n",
      "    0       1.0000    0.0000  \n",
      "    1       1.2500    0.2789  \n",
      "    2       1.5000    0.6082  \n",
      "    3       1.7500    0.9793  \n",
      "    4       2.0000    1.3863  \n",
      "\n",
      "\n",
      "De i=1 hasta i= 3 sumar valor de indices pares\n",
      " \tSuma total (pares) =  0.6081976621622466\n",
      "Suma que se multiplica x2\n",
      " \tResultado 1.2163953243244932 \n",
      "\n",
      "De i=1 hasta i= 3 sumar valor de indices impares\n",
      " \tSuma total (impares)=  1.2582570680297518\n",
      "Suma que se multiplica x4\n",
      " \tResultado 5.033028272119007 \n",
      "\n",
      "Suma total de f(a), f(b) y las multiplicaciones anteriores: \n",
      " \tSuma total: 7.635717957563391\n",
      "\n",
      "\tSolucion =  0.6363098297969492\n"
     ]
    }
   ],
   "source": [
    "principal()"
   ]
  },
  {
   "cell_type": "markdown",
   "metadata": {},
   "source": [
    "## Regla del trapecio"
   ]
  },
  {
   "cell_type": "markdown",
   "metadata": {},
   "source": [
    "### Método de trapecio - caso base\n",
    "  * Caso base $\\int_{a}^{b} f(x) dx= \\frac{h}{2}[f(x_0) + f(x_1)]-error $"
   ]
  },
  {
   "cell_type": "code",
   "execution_count": 57,
   "metadata": {},
   "outputs": [],
   "source": [
    "from math import *\n",
    " \n",
    "def funcion (x) :\n",
    "    return x*log(x)\n"
   ]
  },
  {
   "cell_type": "code",
   "execution_count": 58,
   "metadata": {},
   "outputs": [],
   "source": [
    "def trapeciobase(a, b) :\n",
    "    h=(b-a)\n",
    "    resul=(h/2)*(funcion(a)+funcion(b)) \n",
    "    print(\"Primer y ultimo resultado de la columna fxi\")\n",
    "    print('{:^10}{:^10}'.format('i','fxi'))\n",
    "    print('{:^10}{:^10.4f}'.format(0, funcion(a)))\n",
    "    print('{:^10}{:^10.4f}'.format(1, funcion(b)))\n",
    "    return resul"
   ]
  },
  {
   "cell_type": "code",
   "execution_count": 61,
   "metadata": {},
   "outputs": [
    {
     "name": "stdout",
     "output_type": "stream",
     "text": [
      "ingrese valor de a:1\n",
      "ingrese valor de a:2\n",
      "Primer y ultimo resultado de la columna fxi\n",
      "    i        fxi    \n",
      "    0       0.0000  \n",
      "    1       1.3863  \n",
      "\n",
      "Resultado obtenido con el metodo de trapecio:\t 0.6931471805599453\n"
     ]
    }
   ],
   "source": [
    "a= float(input(\"ingrese valor de a:\" )) \n",
    "b= float(input(\"ingrese valor de a:\" )) \n",
    "\n",
    "print (\"\\nResultado obtenido con el metodo de trapecio:\\t\", trapeciobase(a, b))"
   ]
  },
  {
   "cell_type": "code",
   "execution_count": null,
   "metadata": {},
   "outputs": [],
   "source": []
  },
  {
   "cell_type": "markdown",
   "metadata": {},
   "source": [
    "### Metodo de trapecio - caso general o compuesto\n",
    "* Caso general $h=(b-a)/n$, n puede ser de diversa forma, $\\int_{a}^{b} f(x) dx= \\frac{h}{2}[f(a) + 2 \\sum_{j=1}^{(n-1)} f(x_{j}) + f(b)]-error $"
   ]
  },
  {
   "cell_type": "code",
   "execution_count": 48,
   "metadata": {},
   "outputs": [],
   "source": [
    "import math\n",
    "def fxi(x):\n",
    "    return (math.exp(2*x) * (math.sin(3*x)))\n",
    "\n",
    "def arregloEvaluacion(n,a,h):\n",
    "    aevaluaciones = [fxi(a+i*h) for i in range(n+1)]\n",
    "    return aevaluaciones\n",
    "\n",
    "#afxi = arregloEvaluacion(n)\n",
    "def trapecio(afxi,n,h):\n",
    "#print (afxi)\n",
    "    sumap=sum([afxi[i] for i in range(1,n)])  \n",
    "    #print (sumap)\n",
    "    resultado=(h/2)*(afxi[0]+2*sumap+afxi[n])\n",
    "    #print(\"El resultado es: \",resultado)\n",
    "    return resultado"
   ]
  },
  {
   "cell_type": "code",
   "execution_count": 49,
   "metadata": {},
   "outputs": [
    {
     "name": "stdout",
     "output_type": "stream",
     "text": [
      "METODO TRAPECIO\n",
      "Numero de intervalos: 8\n",
      "Limite a: 0\n",
      "Limite b: 3\n",
      "    i         xi       fxi    \n",
      "    0       0.0000    0.0000  \n",
      "    1       0.3750    1.9101  \n",
      "    2       0.7500    3.4871  \n",
      "    3       1.1250   -2.1945  \n",
      "    4       1.5000   -19.6342 \n",
      "    5       1.8750   -26.0094 \n",
      "    6       2.2500   40.5117  \n",
      "    7       2.6250   190.5242 \n",
      "    8       3.0000   166.2605 \n",
      "Primer y ultimo resultado de la columna fxi\n",
      "    i        fxi    \n",
      "    0       0.0000  \n",
      "    9      166.2605 \n",
      "Suma que se multiplica x2\n",
      "    i        fxi    \n",
      "    1       1.9101  \n",
      "    2       3.4871  \n",
      "    3      -2.1945  \n",
      "    4      -19.6342 \n",
      "    5      -26.0094 \n",
      "    6      40.5117  \n",
      "    7      190.5242 \n",
      "Resultado:  188.59497277496612\n",
      "\n",
      "Sumatoria total:  543.4504088270677\n",
      "Solucion:  101.89695165507518\n"
     ]
    }
   ],
   "source": [
    "def principal():\n",
    "    print(\"METODO TRAPECIO\")\n",
    "    n=int(input(\"Numero de intervalos: \"))\n",
    "    a=float(input(\"Limite a: \"))\n",
    "    b=float(input(\"Limite b: \"))\n",
    "    h=(b-a)/n\n",
    "    sumaT = 0\n",
    "    afxi = arregloEvaluacion(n,a,h)\n",
    "    \n",
    "    rtrapecio = trapecio(afxi,n,h)\n",
    "    \n",
    "    print('{:^10}{:^10}{:^10}'.format('i','xi','fxi'))\n",
    "    for i in range (n+1):\n",
    "        print('{:^10}{:^10.4f}{:^10.4f}'.format(i,(a+(i*h)),afxi[i]))  \n",
    "   \n",
    "    print(\"Primer y ultimo resultado de la columna fxi\")\n",
    "    print('{:^10}{:^10}'.format('i','fxi'))\n",
    "    print('{:^10}{:^10.4f}'.format(0, fxi(a)))\n",
    "    print('{:^10}{:^10.4f}'.format(n+1, fxi(b)))\n",
    "    print(\"Suma que se multiplica x2\")\n",
    "    print('{:^10}{:^10}'.format('i','fxi'))\n",
    "    for i in range(1, n):\n",
    "        print('{:^10}{:^10.4f}'.format(i, fxi(a + (i*h))))\n",
    "        sumaT += fxi(a + (i*h))\n",
    "          \n",
    "    total = fxi(a)+fxi(b) + (sumaT*2)    \n",
    "    print(\"Resultado: \", sumaT)\n",
    "    print(\"\")\n",
    "    print(\"Sumatoria total: \", total)\n",
    "    print(\"Solucion: \", rtrapecio)\n",
    "    \n",
    "principal()"
   ]
  },
  {
   "cell_type": "code",
   "execution_count": null,
   "metadata": {},
   "outputs": [],
   "source": []
  }
 ],
 "metadata": {
  "kernelspec": {
   "display_name": "Python 3",
   "language": "python",
   "name": "python3"
  },
  "language_info": {
   "codemirror_mode": {
    "name": "ipython",
    "version": 3
   },
   "file_extension": ".py",
   "mimetype": "text/x-python",
   "name": "python",
   "nbconvert_exporter": "python",
   "pygments_lexer": "ipython3",
   "version": "3.8.5"
  }
 },
 "nbformat": 4,
 "nbformat_minor": 4
}
